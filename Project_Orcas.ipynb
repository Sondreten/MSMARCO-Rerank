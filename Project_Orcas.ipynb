{
 "cells": [
  {
   "cell_type": "code",
   "execution_count": 74,
   "metadata": {},
   "outputs": [],
   "source": [
    "import elasticsearch\n",
    "import csv\n",
    "from elasticsearch import Elasticsearch\n",
    "from collections import defaultdict\n",
    "import sys\n",
    "import csv\n",
    "import random\n",
    "import gzip\n",
    "import os\n",
    "from collections import defaultdict\n",
    "import pandas as pd\n",
    "\n",
    "from nltk import sent_tokenize, word_tokenize\n",
    "import nltk\n",
    "#nltk.download('punkt')\n",
    "from pycontractions import Contractions\n",
    "from nltk.stem import WordNetLemmatizer \n",
    "from nltk.stem import LancasterStemmer\n",
    "from nltk.stem import PorterStemmer\n",
    "import gensim \n",
    "from gensim.models import Word2Vec \n",
    "import gensim.downloader\n",
    "from scipy import spatial\n",
    "import numpy as np\n",
    "from gensim.models.doc2vec import Doc2Vec,  TaggedDocument\n",
    "model = gensim.models.KeyedVectors.load_word2vec_format('GoogleNews-vectors-negative300.bin', binary=True,limit=1000000)  "
   ]
  },
  {
   "cell_type": "code",
   "execution_count": 4,
   "metadata": {},
   "outputs": [
    {
     "data": {
      "text/html": [
       "<div>\n",
       "<style scoped>\n",
       "    .dataframe tbody tr th:only-of-type {\n",
       "        vertical-align: middle;\n",
       "    }\n",
       "\n",
       "    .dataframe tbody tr th {\n",
       "        vertical-align: top;\n",
       "    }\n",
       "\n",
       "    .dataframe thead th {\n",
       "        text-align: right;\n",
       "    }\n",
       "</style>\n",
       "<table border=\"1\" class=\"dataframe\">\n",
       "  <thead>\n",
       "    <tr style=\"text-align: right;\">\n",
       "      <th></th>\n",
       "      <th>query</th>\n",
       "    </tr>\n",
       "    <tr>\n",
       "      <th>id</th>\n",
       "      <th></th>\n",
       "    </tr>\n",
       "  </thead>\n",
       "  <tbody>\n",
       "    <tr>\n",
       "      <th>9265503</th>\n",
       "      <td>github</td>\n",
       "    </tr>\n",
       "    <tr>\n",
       "      <th>6832981</th>\n",
       "      <td>youtube</td>\n",
       "    </tr>\n",
       "    <tr>\n",
       "      <th>9571352</th>\n",
       "      <td>!</td>\n",
       "    </tr>\n",
       "    <tr>\n",
       "      <th>4896888</th>\n",
       "      <td>! c</td>\n",
       "    </tr>\n",
       "    <tr>\n",
       "      <th>10001890</th>\n",
       "      <td>! c++</td>\n",
       "    </tr>\n",
       "  </tbody>\n",
       "</table>\n",
       "</div>"
      ],
      "text/plain": [
       "            query\n",
       "id               \n",
       "9265503    github\n",
       "6832981   youtube\n",
       "9571352         !\n",
       "4896888       ! c\n",
       "10001890    ! c++"
      ]
     },
     "execution_count": 4,
     "metadata": {},
     "output_type": "execute_result"
    }
   ],
   "source": [
    "df_querys = pd.read_csv(\"orcas-doctrain-queries.tsv\",encoding=\"utf8\",delimiter=\"\\t\",header=None)\n",
    "df_querys.rename( columns ={0: 'id', 1: 'query'}, inplace = True )\n",
    "df_querys = df_querys.astype('str')\n",
    "df_querys.set_index('id',inplace = True)\n",
    "df_querys.head()"
   ]
  },
  {
   "cell_type": "code",
   "execution_count": 5,
   "metadata": {
    "scrolled": true
   },
   "outputs": [
    {
     "data": {
      "text/html": [
       "<div>\n",
       "<style scoped>\n",
       "    .dataframe tbody tr th:only-of-type {\n",
       "        vertical-align: middle;\n",
       "    }\n",
       "\n",
       "    .dataframe tbody tr th {\n",
       "        vertical-align: top;\n",
       "    }\n",
       "\n",
       "    .dataframe thead th {\n",
       "        text-align: right;\n",
       "    }\n",
       "</style>\n",
       "<table border=\"1\" class=\"dataframe\">\n",
       "  <thead>\n",
       "    <tr style=\"text-align: right;\">\n",
       "      <th></th>\n",
       "      <th></th>\n",
       "    </tr>\n",
       "    <tr>\n",
       "      <th>query_id</th>\n",
       "      <th>doc_id</th>\n",
       "    </tr>\n",
       "  </thead>\n",
       "  <tbody>\n",
       "    <tr>\n",
       "      <th rowspan=\"2\" valign=\"top\">9265503</th>\n",
       "      <th>D1265400</th>\n",
       "    </tr>\n",
       "    <tr>\n",
       "      <th>D3438005</th>\n",
       "    </tr>\n",
       "    <tr>\n",
       "      <th>6832981</th>\n",
       "      <th>D2923232</th>\n",
       "    </tr>\n",
       "    <tr>\n",
       "      <th rowspan=\"2\" valign=\"top\">9571352</th>\n",
       "      <th>D1238374</th>\n",
       "    </tr>\n",
       "    <tr>\n",
       "      <th>D889000</th>\n",
       "    </tr>\n",
       "  </tbody>\n",
       "</table>\n",
       "</div>"
      ],
      "text/plain": [
       "Empty DataFrame\n",
       "Columns: []\n",
       "Index: [(9265503, D1265400), (9265503, D3438005), (6832981, D2923232), (9571352, D1238374), (9571352, D889000)]"
      ]
     },
     "execution_count": 5,
     "metadata": {},
     "output_type": "execute_result"
    }
   ],
   "source": [
    "df_qrels = pd.read_csv(\"orcas-doctrain-qrels.tsv\",encoding=\"utf8\",delimiter=\"\\t\",header=None) \n",
    "df_qrels.rename( columns ={0: 'test'}, inplace = True )\n",
    "df_qrels = pd.DataFrame( df_qrels.test.str.split(' ',3).tolist(),columns = ['query_id','i1','doc_id','i2'])\n",
    "df_qrels.set_index(['query_id','doc_id'],inplace = True)\n",
    "df_qrels.drop(['i1', 'i2'], axis=1,inplace = True)\n",
    "df_qrels.head()"
   ]
  },
  {
   "cell_type": "code",
   "execution_count": 6,
   "metadata": {},
   "outputs": [
    {
     "data": {
      "text/html": [
       "<div>\n",
       "<style scoped>\n",
       "    .dataframe tbody tr th:only-of-type {\n",
       "        vertical-align: middle;\n",
       "    }\n",
       "\n",
       "    .dataframe tbody tr th {\n",
       "        vertical-align: top;\n",
       "    }\n",
       "\n",
       "    .dataframe thead th {\n",
       "        text-align: right;\n",
       "    }\n",
       "</style>\n",
       "<table border=\"1\" class=\"dataframe\">\n",
       "  <thead>\n",
       "    <tr style=\"text-align: right;\">\n",
       "      <th></th>\n",
       "      <th>i1</th>\n",
       "      <th>doc_id</th>\n",
       "      <th>i2</th>\n",
       "      <th>i3</th>\n",
       "    </tr>\n",
       "    <tr>\n",
       "      <th>query_id</th>\n",
       "      <th></th>\n",
       "      <th></th>\n",
       "      <th></th>\n",
       "      <th></th>\n",
       "    </tr>\n",
       "  </thead>\n",
       "  <tbody>\n",
       "    <tr>\n",
       "      <th>2000000</th>\n",
       "      <td>Q0</td>\n",
       "      <td>D278797</td>\n",
       "      <td>1</td>\n",
       "      <td>-4.75082 IndriQueryLikelihood</td>\n",
       "    </tr>\n",
       "    <tr>\n",
       "      <th>2000000</th>\n",
       "      <td>Q0</td>\n",
       "      <td>D692485</td>\n",
       "      <td>2</td>\n",
       "      <td>-4.9127 IndriQueryLikelihood</td>\n",
       "    </tr>\n",
       "    <tr>\n",
       "      <th>2000000</th>\n",
       "      <td>Q0</td>\n",
       "      <td>D1769574</td>\n",
       "      <td>3</td>\n",
       "      <td>-4.92883 IndriQueryLikelihood</td>\n",
       "    </tr>\n",
       "    <tr>\n",
       "      <th>2000000</th>\n",
       "      <td>Q0</td>\n",
       "      <td>D519555</td>\n",
       "      <td>4</td>\n",
       "      <td>-4.96246 IndriQueryLikelihood</td>\n",
       "    </tr>\n",
       "    <tr>\n",
       "      <th>2000000</th>\n",
       "      <td>Q0</td>\n",
       "      <td>D3200438</td>\n",
       "      <td>5</td>\n",
       "      <td>-4.98945 IndriQueryLikelihood</td>\n",
       "    </tr>\n",
       "  </tbody>\n",
       "</table>\n",
       "</div>"
      ],
      "text/plain": [
       "          i1    doc_id i2                             i3\n",
       "query_id                                                \n",
       "2000000   Q0   D278797  1  -4.75082 IndriQueryLikelihood\n",
       "2000000   Q0   D692485  2   -4.9127 IndriQueryLikelihood\n",
       "2000000   Q0  D1769574  3  -4.92883 IndriQueryLikelihood\n",
       "2000000   Q0   D519555  4  -4.96246 IndriQueryLikelihood\n",
       "2000000   Q0  D3200438  5  -4.98945 IndriQueryLikelihood"
      ]
     },
     "execution_count": 6,
     "metadata": {},
     "output_type": "execute_result"
    }
   ],
   "source": [
    "df_top100 = pd.read_csv(\"orcas-doctrain-top100.gz\",encoding=\"utf8\",delimiter=\"\\t\",header=None,nrows= 100000)\n",
    "df_top100.rename( columns ={0: 'test'}, inplace = True )\n",
    "df_top100 = pd.DataFrame( df_top100.test.str.split(' ',4).tolist(),columns = ['query_id','i1','doc_id','i2','i3'])\n",
    "df_top100.set_index(['query_id'],inplace = True)\n",
    "#df_qrels.drop(['i1', 'i2'], axis=1,inplace = True)\n",
    "df_top100.head()"
   ]
  },
  {
   "cell_type": "code",
   "execution_count": 7,
   "metadata": {},
   "outputs": [
    {
     "data": {
      "text/html": [
       "<div>\n",
       "<style scoped>\n",
       "    .dataframe tbody tr th:only-of-type {\n",
       "        vertical-align: middle;\n",
       "    }\n",
       "\n",
       "    .dataframe tbody tr th {\n",
       "        vertical-align: top;\n",
       "    }\n",
       "\n",
       "    .dataframe thead th {\n",
       "        text-align: right;\n",
       "    }\n",
       "</style>\n",
       "<table border=\"1\" class=\"dataframe\">\n",
       "  <thead>\n",
       "    <tr style=\"text-align: right;\">\n",
       "      <th></th>\n",
       "      <th>query</th>\n",
       "    </tr>\n",
       "    <tr>\n",
       "      <th>query_id</th>\n",
       "      <th></th>\n",
       "    </tr>\n",
       "  </thead>\n",
       "  <tbody>\n",
       "    <tr>\n",
       "      <th>2000000</th>\n",
       "      <td>it support model</td>\n",
       "    </tr>\n",
       "    <tr>\n",
       "      <th>2000001</th>\n",
       "      <td>brian game of thrones</td>\n",
       "    </tr>\n",
       "    <tr>\n",
       "      <th>2000003</th>\n",
       "      <td>free fill dirt</td>\n",
       "    </tr>\n",
       "    <tr>\n",
       "      <th>2000004</th>\n",
       "      <td>bank of america official website</td>\n",
       "    </tr>\n",
       "    <tr>\n",
       "      <th>2000005</th>\n",
       "      <td>bushel n peck</td>\n",
       "    </tr>\n",
       "  </tbody>\n",
       "</table>\n",
       "</div>"
      ],
      "text/plain": [
       "                                     query\n",
       "query_id                                  \n",
       "2000000                   it support model\n",
       "2000001              brian game of thrones\n",
       "2000003                     free fill dirt\n",
       "2000004   bank of america official website\n",
       "2000005                      bushel n peck"
      ]
     },
     "execution_count": 7,
     "metadata": {},
     "output_type": "execute_result"
    }
   ],
   "source": [
    "df_querys_small = df_querys.loc[df_top100.index.unique()]\n",
    "df_querys_small.head()"
   ]
  },
  {
   "cell_type": "code",
   "execution_count": 8,
   "metadata": {},
   "outputs": [
    {
     "data": {
      "text/html": [
       "<div>\n",
       "<style scoped>\n",
       "    .dataframe tbody tr th:only-of-type {\n",
       "        vertical-align: middle;\n",
       "    }\n",
       "\n",
       "    .dataframe tbody tr th {\n",
       "        vertical-align: top;\n",
       "    }\n",
       "\n",
       "    .dataframe thead th {\n",
       "        text-align: right;\n",
       "    }\n",
       "</style>\n",
       "<table border=\"1\" class=\"dataframe\">\n",
       "  <thead>\n",
       "    <tr style=\"text-align: right;\">\n",
       "      <th></th>\n",
       "      <th>url</th>\n",
       "      <th>title</th>\n",
       "      <th>body</th>\n",
       "    </tr>\n",
       "    <tr>\n",
       "      <th>id</th>\n",
       "      <th></th>\n",
       "      <th></th>\n",
       "      <th></th>\n",
       "    </tr>\n",
       "  </thead>\n",
       "  <tbody>\n",
       "    <tr>\n",
       "      <th>D1826672</th>\n",
       "      <td>https://en.wikipedia.org/wiki/Iron_Throne_%28A...</td>\n",
       "      <td>Iron Throne ( A Song of Ice and Fire)</td>\n",
       "      <td>\"From Wikipedia, the free encyclopedianavigati...</td>\n",
       "    </tr>\n",
       "    <tr>\n",
       "      <th>D1343166</th>\n",
       "      <td>https://en.wikipedia.org/wiki/Game_of_Thrones_...</td>\n",
       "      <td>Game of Thrones  (season 1)</td>\n",
       "      <td>\"From Wikipedia, the free encyclopedia (Redire...</td>\n",
       "    </tr>\n",
       "    <tr>\n",
       "      <th>D2530279</th>\n",
       "      <td>https://en.wikipedia.org/wiki/Game_of_Thrones_...</td>\n",
       "      <td>Game of Thrones  (season 1)</td>\n",
       "      <td>\"From Wikipedia, the free encyclopedianavigati...</td>\n",
       "    </tr>\n",
       "    <tr>\n",
       "      <th>D138178</th>\n",
       "      <td>https://en.wikipedia.org/wiki/List_of_Game_of_...</td>\n",
       "      <td>List of Game of Thrones episodes</td>\n",
       "      <td>\"From Wikipedia, the free encyclopedianavigati...</td>\n",
       "    </tr>\n",
       "    <tr>\n",
       "      <th>D1644363</th>\n",
       "      <td>https://en.wikipedia.org/wiki/Game_of_Thrones_...</td>\n",
       "      <td>Game of Thrones  (2014 video game)</td>\n",
       "      <td>\"This article is about the 2014 graphic advent...</td>\n",
       "    </tr>\n",
       "  </tbody>\n",
       "</table>\n",
       "</div>"
      ],
      "text/plain": [
       "                                                        url  \\\n",
       "id                                                            \n",
       "D1826672  https://en.wikipedia.org/wiki/Iron_Throne_%28A...   \n",
       "D1343166  https://en.wikipedia.org/wiki/Game_of_Thrones_...   \n",
       "D2530279  https://en.wikipedia.org/wiki/Game_of_Thrones_...   \n",
       "D138178   https://en.wikipedia.org/wiki/List_of_Game_of_...   \n",
       "D1644363  https://en.wikipedia.org/wiki/Game_of_Thrones_...   \n",
       "\n",
       "                                          title  \\\n",
       "id                                                \n",
       "D1826672  Iron Throne ( A Song of Ice and Fire)   \n",
       "D1343166            Game of Thrones  (season 1)   \n",
       "D2530279            Game of Thrones  (season 1)   \n",
       "D138178        List of Game of Thrones episodes   \n",
       "D1644363     Game of Thrones  (2014 video game)   \n",
       "\n",
       "                                                       body  \n",
       "id                                                           \n",
       "D1826672  \"From Wikipedia, the free encyclopedianavigati...  \n",
       "D1343166  \"From Wikipedia, the free encyclopedia (Redire...  \n",
       "D2530279  \"From Wikipedia, the free encyclopedianavigati...  \n",
       "D138178   \"From Wikipedia, the free encyclopedianavigati...  \n",
       "D1644363  \"This article is about the 2014 graphic advent...  "
      ]
     },
     "execution_count": 8,
     "metadata": {},
     "output_type": "execute_result"
    }
   ],
   "source": [
    "docoffset = {}\n",
    "with gzip.open(\"msmarco-docs-lookup.tsv.gz\", 'rt', encoding='utf8') as f:\n",
    "    tsvreader = csv.reader(f, delimiter=\"\\t\")\n",
    "    for [docid, _, offset] in tsvreader:\n",
    "        docoffset[docid] = int(offset)\n",
    "        \n",
    "def getcontent(docid, f):\n",
    "    \"\"\"getcontent(docid, f) will get content for a given docid (a string) from filehandle f.\n",
    "    The content has four tab-separated strings: docid, url, title, body.\n",
    "    \"\"\"\n",
    "\n",
    "    f.seek(docoffset[docid])\n",
    "    line = f.readline()\n",
    "    assert line.startswith(docid + \"\\t\"), \\\n",
    "        f\"Looking for {docid}, found {line}\"\n",
    "    return line#.rstrip()        \n",
    "        \n",
    "        \n",
    "def get_docs(doc_list,docs =\"msmarco-docs.tsv\"):\n",
    "    \n",
    "    df = pd.DataFrame(columns = ['id','url','title','body'])\n",
    "    df.set_index('id',inplace = True)\n",
    "    \n",
    "    with open(docs, encoding=\"utf8\") as f:    \n",
    "        for doc in doc_list:       \n",
    "            i = getcontent(doc, f).split('\\t')\n",
    "            row = pd.Series({'url':i[1],'title':i[2],'body':i[3]}, name = i[0])\n",
    "            df = df.append(row)\n",
    "    \n",
    "    return df\n",
    "            \n",
    "def get_ranking(query_id,dataframe = df_top100):\n",
    "    return dataframe.loc[query_id]['doc_id'].tolist()        \n",
    "        \n",
    "get_docs(get_ranking('2000001')).head()        "
   ]
  },
  {
   "cell_type": "code",
   "execution_count": 10,
   "metadata": {
    "scrolled": true
   },
   "outputs": [
    {
     "data": {
      "text/html": [
       "<div>\n",
       "<style scoped>\n",
       "    .dataframe tbody tr th:only-of-type {\n",
       "        vertical-align: middle;\n",
       "    }\n",
       "\n",
       "    .dataframe tbody tr th {\n",
       "        vertical-align: top;\n",
       "    }\n",
       "\n",
       "    .dataframe thead th {\n",
       "        text-align: right;\n",
       "    }\n",
       "</style>\n",
       "<table border=\"1\" class=\"dataframe\">\n",
       "  <thead>\n",
       "    <tr style=\"text-align: right;\">\n",
       "      <th></th>\n",
       "      <th>y</th>\n",
       "      <th>query_id</th>\n",
       "      <th>query</th>\n",
       "      <th>url</th>\n",
       "      <th>title</th>\n",
       "      <th>body</th>\n",
       "    </tr>\n",
       "  </thead>\n",
       "  <tbody>\n",
       "    <tr>\n",
       "      <th>0</th>\n",
       "      <td>1</td>\n",
       "      <td>2000000</td>\n",
       "      <td>it support model</td>\n",
       "      <td>wikiped org wik techn support</td>\n",
       "      <td>techn support</td>\n",
       "      <td>from wikiped , the fre encyclopedianavig searc...</td>\n",
       "    </tr>\n",
       "    <tr>\n",
       "      <th>1</th>\n",
       "      <td>1</td>\n",
       "      <td>2000001</td>\n",
       "      <td>bri gam of thrones</td>\n",
       "      <td>wikiped org wik bran stark</td>\n",
       "      <td>bran stark</td>\n",
       "      <td>from wikiped , the fre encyclopedianavig searc...</td>\n",
       "    </tr>\n",
       "    <tr>\n",
       "      <th>2</th>\n",
       "      <td>1</td>\n",
       "      <td>2000003</td>\n",
       "      <td>fre fil dirt</td>\n",
       "      <td>dirtfil</td>\n",
       "      <td>.</td>\n",
       "      <td>`` i found a sit nee fil dirt on dirt fill.com...</td>\n",
       "    </tr>\n",
       "    <tr>\n",
       "      <th>3</th>\n",
       "      <td>1</td>\n",
       "      <td>2000004</td>\n",
       "      <td>bank of americ off websit</td>\n",
       "      <td>loc bankofameric</td>\n",
       "      <td>find a fin cent or atm</td>\n",
       "      <td>find a fin cent or atmarizon arkansa californ ...</td>\n",
       "    </tr>\n",
       "    <tr>\n",
       "      <th>4</th>\n",
       "      <td>1</td>\n",
       "      <td>2000005</td>\n",
       "      <td>bushel n peck</td>\n",
       "      <td>bushelnpeckdel</td>\n",
       "      <td>nut and delicy produc at afford pric ...</td>\n",
       "      <td>nut and delicy produc at afford pric ... the b...</td>\n",
       "    </tr>\n",
       "  </tbody>\n",
       "</table>\n",
       "</div>"
      ],
      "text/plain": [
       "   y  query_id                      query                            url  \\\n",
       "0  1   2000000           it support model  wikiped org wik techn support   \n",
       "1  1   2000001         bri gam of thrones     wikiped org wik bran stark   \n",
       "2  1   2000003               fre fil dirt                        dirtfil   \n",
       "3  1   2000004  bank of americ off websit               loc bankofameric   \n",
       "4  1   2000005              bushel n peck                 bushelnpeckdel   \n",
       "\n",
       "                                      title  \\\n",
       "0                             techn support   \n",
       "1                                bran stark   \n",
       "2                                         .   \n",
       "3                    find a fin cent or atm   \n",
       "4  nut and delicy produc at afford pric ...   \n",
       "\n",
       "                                                body  \n",
       "0  from wikiped , the fre encyclopedianavig searc...  \n",
       "1  from wikiped , the fre encyclopedianavig searc...  \n",
       "2  `` i found a sit nee fil dirt on dirt fill.com...  \n",
       "3  find a fin cent or atmarizon arkansa californ ...  \n",
       "4  nut and delicy produc at afford pric ... the b...  "
      ]
     },
     "execution_count": 10,
     "metadata": {},
     "output_type": "execute_result"
    }
   ],
   "source": [
    "df_triples = pd.read_csv(\"triples.tsv\",encoding=\"utf8\",delimiter=\"\\t\",header=None)\n",
    "df1 = df_triples[[0,1,3,4,5]]\n",
    "df1.insert(0,'y',1)\n",
    "df0 = df_triples[[0,1,7,8,9]]\n",
    "df0.insert(0,'y',0)\n",
    "df0 = df0.rename( columns ={7: 3, 8: 4,9:5} )\n",
    "\n",
    "df_triples = pd.concat([df1, df0])\n",
    "df_triples = df_triples.rename(   columns ={0: 'query_id', 1: 'query',3:'url',4:'title',5:'body'}          )\n",
    "\n",
    "df_triples['url'] = df_triples.apply(lambda x: clean_text(clean_url(x['url'])) ,axis=1)\n",
    "df_triples['query'] = df_triples.apply(lambda x: clean_text(x['query']) ,axis=1)\n",
    "df_triples['title'] = df_triples.apply(lambda x: clean_text(x['title']) ,axis=1)\n",
    "df_triples['body'] = df_triples.apply(lambda x: clean_text(x['body']) ,axis=1)\n",
    "df_triples.head()"
   ]
  },
  {
   "cell_type": "code",
   "execution_count": 9,
   "metadata": {},
   "outputs": [
    {
     "data": {
      "text/plain": [
       "'wikipedia org  wiki  technical support'"
      ]
     },
     "execution_count": 9,
     "metadata": {},
     "output_type": "execute_result"
    }
   ],
   "source": [
    "\n",
    "p=LancasterStemmer()\n",
    "\n",
    "def clean_url(url):\n",
    "        url = url.replace('com','').replace('en','').split('/')\n",
    " \n",
    "        return ' '.join([ word.replace('.',' ').replace('_',' ') +' ' for word in url[1:]]).strip().lower() \n",
    "\n",
    "def clean_text(text):\n",
    "        \n",
    "        sentences = sent_tokenize(str(text).lower())\n",
    "        cleaned_text = ' '.join([ ' '.join([ p.stem(word) for word in  word_tokenize(sentence) ]) for sentence in sentences ])\n",
    "        return cleaned_text \n",
    "    \n",
    "clean_url('https://en.wikipedia.org/wiki/Technical_support')    "
   ]
  },
  {
   "cell_type": "code",
   "execution_count": null,
   "metadata": {},
   "outputs": [],
   "source": [
    "es = Elasticsearch()\n",
    "es.info()"
   ]
  },
  {
   "cell_type": "code",
   "execution_count": null,
   "metadata": {},
   "outputs": [],
   "source": [
    "if es.indices.exists(INDEX_NAME):\n",
    "    es.indices.delete(INDEX_NAME)"
   ]
  },
  {
   "cell_type": "code",
   "execution_count": null,
   "metadata": {},
   "outputs": [],
   "source": [
    "INDEX_NAME ='ms_macro_index'\n",
    "\n",
    "\n",
    "INDEX_SETTINGS = {\n",
    "    'mappings': {\n",
    "            'properties': {\n",
    "                'url': {\n",
    "                    'type': 'text',\n",
    "                    'term_vector': 'yes',\n",
    "                    'analyzer': 'english'\n",
    "                },\n",
    "                'title': {\n",
    "                    'type': 'text',\n",
    "                    'term_vector': 'yes',\n",
    "                    'analyzer': 'english'\n",
    "                },\n",
    "                'body': {\n",
    "                    'type': 'text',\n",
    "                    'term_vector': 'yes',\n",
    "                    'analyzer': 'english'\n",
    "                }\n",
    "            }\n",
    "        }\n",
    "    }\n",
    "\n",
    "es.indices.create(index=INDEX_NAME, body=INDEX_SETTINGS)"
   ]
  },
  {
   "cell_type": "code",
   "execution_count": null,
   "metadata": {},
   "outputs": [],
   "source": [
    "def index_all(querys):\n",
    "    \n",
    "    for query in querys:\n",
    "        print(query)\n",
    "        docs = get_ranking(query)\n",
    "        index_docs(docs)\n",
    "  \n",
    "def index_docs(list_docIds,docs =\"msmarco-docs.tsv\" ):\n",
    "    \n",
    "        \n",
    "    with open(docs, encoding=\"utf8\") as f:    \n",
    "        for doc in list_docIds:       \n",
    "            i = getcontent(doc, f).split('\\t')\n",
    "            if not es.exists(index=INDEX_NAME, id=doc):\n",
    "                es.index(index=INDEX_NAME, id=i[0], body={'url':i[1],'title':i[2],'body':i[3]})       "
   ]
  },
  {
   "cell_type": "code",
   "execution_count": 30,
   "metadata": {},
   "outputs": [],
   "source": [
    "tagged_data = [TaggedDocument(d, [i]) for i, d in enumerate(data)]"
   ]
  },
  {
   "cell_type": "code",
   "execution_count": 11,
   "metadata": {},
   "outputs": [
    {
     "name": "stdout",
     "output_type": "stream",
     "text": [
      "201354\n"
     ]
    }
   ],
   "source": [
    "data = []\n",
    "for i,row in df_triples.iterrows():\n",
    "    for sent in sent_tokenize(row['body']):\n",
    "        sentence =[]\n",
    "        for word in word_tokenize(sent):\n",
    "            sentence.append(word)\n",
    "        \n",
    "        data.append(sentence)\n",
    "print(len(data))\n",
    "model = gensim.models.Word2Vec(data, min_count = 1, size = 100, window = 5) "
   ]
  },
  {
   "cell_type": "code",
   "execution_count": 32,
   "metadata": {},
   "outputs": [],
   "source": [
    "model_doc  = Doc2Vec(tagged_data, vector_size=20, window=2, min_count=1, workers=10, epochs = 1)"
   ]
  },
  {
   "cell_type": "code",
   "execution_count": null,
   "metadata": {},
   "outputs": [],
   "source": [
    "def w2v(a,b):\n",
    "    \n",
    "    vec_a = np.mean([model.wv.word_vec(word) for word in a if word in model.wv.vocab], axis=0) \n",
    "    vec_b = np.mean([model.wv.word_vec(word) for word in b if word in model.wv.vocab], axis=0) \n",
    "    \n",
    "    return 1 - spatial.distance.cosine(vec_a, vec_b)\n",
    "\n"
   ]
  },
  {
   "cell_type": "code",
   "execution_count": 136,
   "metadata": {},
   "outputs": [],
   "source": [
    "test = df_triples[1900:1905].copy()"
   ]
  },
  {
   "cell_type": "code",
   "execution_count": 137,
   "metadata": {},
   "outputs": [],
   "source": [
    "def w2v(a,b):\n",
    "    \n",
    "    vec_a = np.mean([model.wv.word_vec(word) for word in a if word in model.wv.vocab], axis=0) \n",
    "    vec_b = np.mean([model.wv.word_vec(word) for word in b if word in model.wv.vocab], axis=0) \n",
    "    \n",
    "    return 1 - spatial.distance.cosine(vec_a, vec_b)\n",
    "    \n",
    "    "
   ]
  },
  {
   "cell_type": "code",
   "execution_count": 138,
   "metadata": {},
   "outputs": [
    {
     "name": "stderr",
     "output_type": "stream",
     "text": [
      "C:\\Users\\einar\\anaconda3\\lib\\site-packages\\ipykernel_launcher.py:3: DeprecationWarning: Call to deprecated `wv` (Attribute will be removed in 4.0.0, use self instead).\n",
      "  This is separate from the ipykernel package so we can avoid doing imports until\n",
      "C:\\Users\\einar\\anaconda3\\lib\\site-packages\\ipykernel_launcher.py:4: DeprecationWarning: Call to deprecated `wv` (Attribute will be removed in 4.0.0, use self instead).\n",
      "  after removing the cwd from sys.path.\n",
      "C:\\Users\\einar\\anaconda3\\lib\\site-packages\\numpy\\core\\fromnumeric.py:3335: RuntimeWarning: Mean of empty slice.\n",
      "  out=out, **kwargs)\n",
      "C:\\Users\\einar\\anaconda3\\lib\\site-packages\\numpy\\core\\_methods.py:161: RuntimeWarning: invalid value encountered in double_scalars\n",
      "  ret = ret.dtype.type(ret / rcount)\n"
     ]
    },
    {
     "data": {
      "text/html": [
       "<div>\n",
       "<style scoped>\n",
       "    .dataframe tbody tr th:only-of-type {\n",
       "        vertical-align: middle;\n",
       "    }\n",
       "\n",
       "    .dataframe tbody tr th {\n",
       "        vertical-align: top;\n",
       "    }\n",
       "\n",
       "    .dataframe thead th {\n",
       "        text-align: right;\n",
       "    }\n",
       "</style>\n",
       "<table border=\"1\" class=\"dataframe\">\n",
       "  <thead>\n",
       "    <tr style=\"text-align: right;\">\n",
       "      <th></th>\n",
       "      <th>y</th>\n",
       "      <th>query_id</th>\n",
       "      <th>query</th>\n",
       "      <th>url</th>\n",
       "      <th>title</th>\n",
       "      <th>body</th>\n",
       "      <th>w2v_url</th>\n",
       "    </tr>\n",
       "  </thead>\n",
       "  <tbody>\n",
       "    <tr>\n",
       "      <th>900</th>\n",
       "      <td>0</td>\n",
       "      <td>2000987</td>\n",
       "      <td>medit and anxy</td>\n",
       "      <td>www ergy-healing-info best-crystal-for-healing...</td>\n",
       "      <td>best cryst for heal anxy</td>\n",
       "      <td>best cryst for heal anxietyth best cryst and s...</td>\n",
       "      <td>0.926961</td>\n",
       "    </tr>\n",
       "    <tr>\n",
       "      <th>901</th>\n",
       "      <td>0</td>\n",
       "      <td>2000988</td>\n",
       "      <td>how to expand bracket</td>\n",
       "      <td>www teacherscho au mathem how-to libr htm</td>\n",
       "      <td>topalgebr</td>\n",
       "      <td>[ teach ' cho softw hom pag ] stuck on yo home...</td>\n",
       "      <td>0.967504</td>\n",
       "    </tr>\n",
       "    <tr>\n",
       "      <th>902</th>\n",
       "      <td>0</td>\n",
       "      <td>2000989</td>\n",
       "      <td>dfa civil pay custom serv</td>\n",
       "      <td>www dfa mil car careerpath technicians-callcte...</td>\n",
       "      <td>nan</td>\n",
       "      <td>techn &amp; cal cent repres dfa employ individ in ...</td>\n",
       "      <td>0.583577</td>\n",
       "    </tr>\n",
       "    <tr>\n",
       "      <th>903</th>\n",
       "      <td>0</td>\n",
       "      <td>2000990</td>\n",
       "      <td>what is on the cw tonight</td>\n",
       "      <td>www tvguide tvshows supergirl 694533</td>\n",
       "      <td>supergirl</td>\n",
       "      <td>overview new photo episod video clip tv list c...</td>\n",
       "      <td>0.902352</td>\n",
       "    </tr>\n",
       "    <tr>\n",
       "      <th>904</th>\n",
       "      <td>0</td>\n",
       "      <td>2000991</td>\n",
       "      <td>apostroph exampl sent</td>\n",
       "      <td>www grammarbook gramm pronoun asp</td>\n",
       "      <td>.</td>\n",
       "      <td>pronoun definit a pronoun ( i , me , he , she ...</td>\n",
       "      <td>NaN</td>\n",
       "    </tr>\n",
       "  </tbody>\n",
       "</table>\n",
       "</div>"
      ],
      "text/plain": [
       "     y  query_id                      query  \\\n",
       "900  0   2000987             medit and anxy   \n",
       "901  0   2000988      how to expand bracket   \n",
       "902  0   2000989  dfa civil pay custom serv   \n",
       "903  0   2000990  what is on the cw tonight   \n",
       "904  0   2000991      apostroph exampl sent   \n",
       "\n",
       "                                                   url  \\\n",
       "900  www ergy-healing-info best-crystal-for-healing...   \n",
       "901          www teacherscho au mathem how-to libr htm   \n",
       "902  www dfa mil car careerpath technicians-callcte...   \n",
       "903               www tvguide tvshows supergirl 694533   \n",
       "904                  www grammarbook gramm pronoun asp   \n",
       "\n",
       "                        title  \\\n",
       "900  best cryst for heal anxy   \n",
       "901                 topalgebr   \n",
       "902                       nan   \n",
       "903                 supergirl   \n",
       "904                         .   \n",
       "\n",
       "                                                  body   w2v_url  \n",
       "900  best cryst for heal anxietyth best cryst and s...  0.926961  \n",
       "901  [ teach ' cho softw hom pag ] stuck on yo home...  0.967504  \n",
       "902  techn & cal cent repres dfa employ individ in ...  0.583577  \n",
       "903  overview new photo episod video clip tv list c...  0.902352  \n",
       "904  pronoun definit a pronoun ( i , me , he , she ...       NaN  "
      ]
     },
     "execution_count": 138,
     "metadata": {},
     "output_type": "execute_result"
    }
   ],
   "source": [
    "test['w2v_url'] = test.apply(lambda x: w2v(x['query'],x['title']) ,axis=1)\n",
    "\n",
    "test"
   ]
  },
  {
   "cell_type": "code",
   "execution_count": 41,
   "metadata": {},
   "outputs": [],
   "source": [
    "def avg_sentence_vector(words, model, num_features):\n",
    "    #function to average all words vectors in a given paragraph\n",
    "    featureVec = np.zeros((num_features,), dtype=\"float32\")\n",
    "    n = 0\n",
    "\n",
    "    for word in words:\n",
    "        if word in model.wv.vocab:\n",
    "            n = n+1\n",
    "            featureVec = np.add(featureVec, model[word])\n",
    "\n",
    "    if n>0:\n",
    "        featureVec = np.divide(featureVec, n)\n",
    "    return featureVec\n"
   ]
  },
  {
   "cell_type": "code",
   "execution_count": 125,
   "metadata": {},
   "outputs": [
    {
     "name": "stderr",
     "output_type": "stream",
     "text": [
      "C:\\Users\\einar\\anaconda3\\lib\\site-packages\\ipykernel_launcher.py:7: DeprecationWarning: Call to deprecated `wv` (Attribute will be removed in 4.0.0, use self instead).\n",
      "  import sys\n"
     ]
    }
   ],
   "source": [
    " a = avg_sentence_vector('technician', model, 300)"
   ]
  },
  {
   "cell_type": "code",
   "execution_count": 126,
   "metadata": {},
   "outputs": [
    {
     "name": "stderr",
     "output_type": "stream",
     "text": [
      "C:\\Users\\einar\\anaconda3\\lib\\site-packages\\ipykernel_launcher.py:1: DeprecationWarning: Call to deprecated `wv` (Attribute will be removed in 4.0.0, use self instead).\n",
      "  \"\"\"Entry point for launching an IPython kernel.\n"
     ]
    }
   ],
   "source": [
    "b= np.mean([model.wv.word_vec(word) for word in 'electric' if word in model.wv.vocab], axis=0) "
   ]
  },
  {
   "cell_type": "code",
   "execution_count": 127,
   "metadata": {},
   "outputs": [
    {
     "data": {
      "text/plain": [
       "array([[0.94877696]], dtype=float32)"
      ]
     },
     "execution_count": 127,
     "metadata": {},
     "output_type": "execute_result"
    }
   ],
   "source": [
    "from sklearn.metrics.pairwise import cosine_similarity\n",
    "cosine_similarity(a.reshape(1, -1),b.reshape(1, -1))"
   ]
  },
  {
   "cell_type": "code",
   "execution_count": 128,
   "metadata": {},
   "outputs": [
    {
     "data": {
      "text/plain": [
       "0.9487770795822144"
      ]
     },
     "execution_count": 128,
     "metadata": {},
     "output_type": "execute_result"
    }
   ],
   "source": [
    "1 - spatial.distance.cosine(a, b)"
   ]
  },
  {
   "cell_type": "code",
   "execution_count": null,
   "metadata": {},
   "outputs": [],
   "source": []
  }
 ],
 "metadata": {
  "kernelspec": {
   "display_name": "Python 3",
   "language": "python",
   "name": "python3"
  },
  "language_info": {
   "codemirror_mode": {
    "name": "ipython",
    "version": 3
   },
   "file_extension": ".py",
   "mimetype": "text/x-python",
   "name": "python",
   "nbconvert_exporter": "python",
   "pygments_lexer": "ipython3",
   "version": "3.7.6"
  }
 },
 "nbformat": 4,
 "nbformat_minor": 4
}
