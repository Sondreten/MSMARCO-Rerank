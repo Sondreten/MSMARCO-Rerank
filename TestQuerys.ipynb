{
 "cells": [
  {
   "cell_type": "code",
   "execution_count": 1,
   "metadata": {},
   "outputs": [],
   "source": [
    "import csv\n",
    "import pandas as pd\n",
    "import gzip\n",
    "import sys\n",
    "import random as random\n",
    "import math\n",
    "import re\n",
    "from sklearn.ensemble import RandomForestRegressor\n",
    "import numpy as np"
   ]
  },
  {
   "cell_type": "code",
   "execution_count": 2,
   "metadata": {},
   "outputs": [],
   "source": [
    "df_querys = pd.read_csv(\"msmarco-test2019-queries.tsv.gz\", encoding=\"utf8\",delimiter=\"\\t\",header=None)"
   ]
  },
  {
   "cell_type": "code",
   "execution_count": 3,
   "metadata": {},
   "outputs": [
    {
     "data": {
      "text/html": [
       "<div>\n",
       "<style scoped>\n",
       "    .dataframe tbody tr th:only-of-type {\n",
       "        vertical-align: middle;\n",
       "    }\n",
       "\n",
       "    .dataframe tbody tr th {\n",
       "        vertical-align: top;\n",
       "    }\n",
       "\n",
       "    .dataframe thead th {\n",
       "        text-align: right;\n",
       "    }\n",
       "</style>\n",
       "<table border=\"1\" class=\"dataframe\">\n",
       "  <thead>\n",
       "    <tr style=\"text-align: right;\">\n",
       "      <th></th>\n",
       "      <th>0</th>\n",
       "      <th>1</th>\n",
       "    </tr>\n",
       "  </thead>\n",
       "  <tbody>\n",
       "    <tr>\n",
       "      <th>0</th>\n",
       "      <td>1108939</td>\n",
       "      <td>what slows down the flow of blood</td>\n",
       "    </tr>\n",
       "    <tr>\n",
       "      <th>1</th>\n",
       "      <td>1112389</td>\n",
       "      <td>what is the county for grand rapids, mn</td>\n",
       "    </tr>\n",
       "    <tr>\n",
       "      <th>2</th>\n",
       "      <td>792752</td>\n",
       "      <td>what is ruclip</td>\n",
       "    </tr>\n",
       "    <tr>\n",
       "      <th>3</th>\n",
       "      <td>1119729</td>\n",
       "      <td>what do you do when you have a nosebleed from ...</td>\n",
       "    </tr>\n",
       "    <tr>\n",
       "      <th>4</th>\n",
       "      <td>1105095</td>\n",
       "      <td>where is sugar lake lodge located</td>\n",
       "    </tr>\n",
       "  </tbody>\n",
       "</table>\n",
       "</div>"
      ],
      "text/plain": [
       "         0                                                  1\n",
       "0  1108939                  what slows down the flow of blood\n",
       "1  1112389            what is the county for grand rapids, mn\n",
       "2   792752                                     what is ruclip\n",
       "3  1119729  what do you do when you have a nosebleed from ...\n",
       "4  1105095                  where is sugar lake lodge located"
      ]
     },
     "execution_count": 3,
     "metadata": {},
     "output_type": "execute_result"
    }
   ],
   "source": [
    "df_querys.head()"
   ]
  },
  {
   "cell_type": "code",
   "execution_count": 4,
   "metadata": {},
   "outputs": [],
   "source": [
    "df_doctest_top100 = pd.read_csv(\"msmarco-doctest2019-top100.gz\", encoding=\"utf8\",delimiter=\"\\t\", header=None)"
   ]
  },
  {
   "cell_type": "code",
   "execution_count": 5,
   "metadata": {},
   "outputs": [
    {
     "data": {
      "text/html": [
       "<div>\n",
       "<style scoped>\n",
       "    .dataframe tbody tr th:only-of-type {\n",
       "        vertical-align: middle;\n",
       "    }\n",
       "\n",
       "    .dataframe tbody tr th {\n",
       "        vertical-align: top;\n",
       "    }\n",
       "\n",
       "    .dataframe thead th {\n",
       "        text-align: right;\n",
       "    }\n",
       "</style>\n",
       "<table border=\"1\" class=\"dataframe\">\n",
       "  <thead>\n",
       "    <tr style=\"text-align: right;\">\n",
       "      <th></th>\n",
       "      <th>0</th>\n",
       "    </tr>\n",
       "  </thead>\n",
       "  <tbody>\n",
       "    <tr>\n",
       "      <th>0</th>\n",
       "      <td>1108939 Q0 D388799 1 -4.80563 IndriQueryLikeli...</td>\n",
       "    </tr>\n",
       "    <tr>\n",
       "      <th>1</th>\n",
       "      <td>1108939 Q0 D290852 2 -4.98713 IndriQueryLikeli...</td>\n",
       "    </tr>\n",
       "    <tr>\n",
       "      <th>2</th>\n",
       "      <td>1108939 Q0 D2449334 3 -4.9901 IndriQueryLikeli...</td>\n",
       "    </tr>\n",
       "    <tr>\n",
       "      <th>3</th>\n",
       "      <td>1108939 Q0 D884740 4 -5.03263 IndriQueryLikeli...</td>\n",
       "    </tr>\n",
       "    <tr>\n",
       "      <th>4</th>\n",
       "      <td>1108939 Q0 D2449337 5 -5.03325 IndriQueryLikel...</td>\n",
       "    </tr>\n",
       "  </tbody>\n",
       "</table>\n",
       "</div>"
      ],
      "text/plain": [
       "                                                   0\n",
       "0  1108939 Q0 D388799 1 -4.80563 IndriQueryLikeli...\n",
       "1  1108939 Q0 D290852 2 -4.98713 IndriQueryLikeli...\n",
       "2  1108939 Q0 D2449334 3 -4.9901 IndriQueryLikeli...\n",
       "3  1108939 Q0 D884740 4 -5.03263 IndriQueryLikeli...\n",
       "4  1108939 Q0 D2449337 5 -5.03325 IndriQueryLikel..."
      ]
     },
     "execution_count": 5,
     "metadata": {},
     "output_type": "execute_result"
    }
   ],
   "source": [
    "df_doctest_top100.head()"
   ]
  },
  {
   "cell_type": "code",
   "execution_count": 6,
   "metadata": {},
   "outputs": [],
   "source": [
    "df_qrels = pd.read_csv(\"2019qrels.txt\", encoding=\"utf8\",delimiter=\"\\t\", header=None)"
   ]
  },
  {
   "cell_type": "code",
   "execution_count": 7,
   "metadata": {},
   "outputs": [
    {
     "data": {
      "text/html": [
       "<div>\n",
       "<style scoped>\n",
       "    .dataframe tbody tr th:only-of-type {\n",
       "        vertical-align: middle;\n",
       "    }\n",
       "\n",
       "    .dataframe tbody tr th {\n",
       "        vertical-align: top;\n",
       "    }\n",
       "\n",
       "    .dataframe thead th {\n",
       "        text-align: right;\n",
       "    }\n",
       "</style>\n",
       "<table border=\"1\" class=\"dataframe\">\n",
       "  <thead>\n",
       "    <tr style=\"text-align: right;\">\n",
       "      <th></th>\n",
       "      <th>0</th>\n",
       "    </tr>\n",
       "  </thead>\n",
       "  <tbody>\n",
       "    <tr>\n",
       "      <th>0</th>\n",
       "      <td>19335 Q0 D1035833 0</td>\n",
       "    </tr>\n",
       "    <tr>\n",
       "      <th>1</th>\n",
       "      <td>19335 Q0 D1068065 0</td>\n",
       "    </tr>\n",
       "    <tr>\n",
       "      <th>2</th>\n",
       "      <td>19335 Q0 D1068066 0</td>\n",
       "    </tr>\n",
       "    <tr>\n",
       "      <th>3</th>\n",
       "      <td>19335 Q0 D1088 0</td>\n",
       "    </tr>\n",
       "    <tr>\n",
       "      <th>4</th>\n",
       "      <td>19335 Q0 D109632 2</td>\n",
       "    </tr>\n",
       "  </tbody>\n",
       "</table>\n",
       "</div>"
      ],
      "text/plain": [
       "                     0\n",
       "0  19335 Q0 D1035833 0\n",
       "1  19335 Q0 D1068065 0\n",
       "2  19335 Q0 D1068066 0\n",
       "3     19335 Q0 D1088 0\n",
       "4   19335 Q0 D109632 2"
      ]
     },
     "execution_count": 7,
     "metadata": {},
     "output_type": "execute_result"
    }
   ],
   "source": [
    "df_qrels.head()"
   ]
  },
  {
   "cell_type": "code",
   "execution_count": 9,
   "metadata": {},
   "outputs": [],
   "source": [
    "df_qrels.rename(columns={0: 'test'}, inplace= True)\n",
    "df_qrels = pd.DataFrame( df_qrels.test.str.split(' ',3).tolist(),columns = ['query_id','i1','doc_id','i2'])"
   ]
  },
  {
   "cell_type": "code",
   "execution_count": 10,
   "metadata": {},
   "outputs": [
    {
     "data": {
      "text/plain": [
       "(16258, 4)"
      ]
     },
     "execution_count": 10,
     "metadata": {},
     "output_type": "execute_result"
    }
   ],
   "source": [
    "df_qrels.shape"
   ]
  },
  {
   "cell_type": "code",
   "execution_count": 11,
   "metadata": {},
   "outputs": [],
   "source": [
    "a = df_qrels['query_id'].unique()\n",
    "adict = {}\n",
    "\n",
    "for queries in a:\n",
    "    queryString = str(queries)\n",
    "    b = df_qrels.loc[df_qrels['query_id'] == queryString]\n",
    "    c = b['doc_id'].tolist() \n",
    "    \n",
    "    adict[queries] = c\n",
    "    "
   ]
  },
  {
   "cell_type": "code",
   "execution_count": 22,
   "metadata": {},
   "outputs": [
    {
     "ename": "AttributeError",
     "evalue": "'dict' object has no attribute 'head'",
     "output_type": "error",
     "traceback": [
      "\u001b[1;31m---------------------------------------------------------------------------\u001b[0m",
      "\u001b[1;31mAttributeError\u001b[0m                            Traceback (most recent call last)",
      "\u001b[1;32m<ipython-input-22-56a8d144f742>\u001b[0m in \u001b[0;36m<module>\u001b[1;34m()\u001b[0m\n\u001b[1;32m----> 1\u001b[1;33m \u001b[0madict\u001b[0m\u001b[1;33m.\u001b[0m\u001b[0mhead\u001b[0m\u001b[1;33m(\u001b[0m\u001b[1;33m)\u001b[0m\u001b[1;33m\u001b[0m\u001b[0m\n\u001b[0m",
      "\u001b[1;31mAttributeError\u001b[0m: 'dict' object has no attribute 'head'"
     ]
    }
   ],
   "source": [
    "adict"
   ]
  },
  {
   "cell_type": "code",
   "execution_count": 13,
   "metadata": {},
   "outputs": [
    {
     "data": {
      "text/html": [
       "<div>\n",
       "<style scoped>\n",
       "    .dataframe tbody tr th:only-of-type {\n",
       "        vertical-align: middle;\n",
       "    }\n",
       "\n",
       "    .dataframe tbody tr th {\n",
       "        vertical-align: top;\n",
       "    }\n",
       "\n",
       "    .dataframe thead th {\n",
       "        text-align: right;\n",
       "    }\n",
       "</style>\n",
       "<table border=\"1\" class=\"dataframe\">\n",
       "  <thead>\n",
       "    <tr style=\"text-align: right;\">\n",
       "      <th></th>\n",
       "      <th>0</th>\n",
       "    </tr>\n",
       "  </thead>\n",
       "  <tbody>\n",
       "    <tr>\n",
       "      <th>0</th>\n",
       "      <td>1108939 Q0 D388799 1 -4.80563 IndriQueryLikeli...</td>\n",
       "    </tr>\n",
       "    <tr>\n",
       "      <th>1</th>\n",
       "      <td>1108939 Q0 D290852 2 -4.98713 IndriQueryLikeli...</td>\n",
       "    </tr>\n",
       "    <tr>\n",
       "      <th>2</th>\n",
       "      <td>1108939 Q0 D2449334 3 -4.9901 IndriQueryLikeli...</td>\n",
       "    </tr>\n",
       "    <tr>\n",
       "      <th>3</th>\n",
       "      <td>1108939 Q0 D884740 4 -5.03263 IndriQueryLikeli...</td>\n",
       "    </tr>\n",
       "    <tr>\n",
       "      <th>4</th>\n",
       "      <td>1108939 Q0 D2449337 5 -5.03325 IndriQueryLikel...</td>\n",
       "    </tr>\n",
       "  </tbody>\n",
       "</table>\n",
       "</div>"
      ],
      "text/plain": [
       "                                                   0\n",
       "0  1108939 Q0 D388799 1 -4.80563 IndriQueryLikeli...\n",
       "1  1108939 Q0 D290852 2 -4.98713 IndriQueryLikeli...\n",
       "2  1108939 Q0 D2449334 3 -4.9901 IndriQueryLikeli...\n",
       "3  1108939 Q0 D884740 4 -5.03263 IndriQueryLikeli...\n",
       "4  1108939 Q0 D2449337 5 -5.03325 IndriQueryLikel..."
      ]
     },
     "execution_count": 13,
     "metadata": {},
     "output_type": "execute_result"
    }
   ],
   "source": [
    "df_doctest_top100.head()"
   ]
  },
  {
   "cell_type": "code",
   "execution_count": 14,
   "metadata": {},
   "outputs": [],
   "source": [
    "df_doctest_top100.rename(columns={0: 'test'}, inplace= True)\n",
    "df_doctest_top100 = pd.DataFrame( df_doctest_top100.test.str.split(' ',4).tolist(),columns = ['query_id','i1','doc_id','i2', 'i3'])"
   ]
  },
  {
   "cell_type": "code",
   "execution_count": 15,
   "metadata": {},
   "outputs": [
    {
     "data": {
      "text/html": [
       "<div>\n",
       "<style scoped>\n",
       "    .dataframe tbody tr th:only-of-type {\n",
       "        vertical-align: middle;\n",
       "    }\n",
       "\n",
       "    .dataframe tbody tr th {\n",
       "        vertical-align: top;\n",
       "    }\n",
       "\n",
       "    .dataframe thead th {\n",
       "        text-align: right;\n",
       "    }\n",
       "</style>\n",
       "<table border=\"1\" class=\"dataframe\">\n",
       "  <thead>\n",
       "    <tr style=\"text-align: right;\">\n",
       "      <th></th>\n",
       "      <th>query_id</th>\n",
       "      <th>i1</th>\n",
       "      <th>doc_id</th>\n",
       "      <th>i2</th>\n",
       "      <th>i3</th>\n",
       "    </tr>\n",
       "  </thead>\n",
       "  <tbody>\n",
       "    <tr>\n",
       "      <th>0</th>\n",
       "      <td>1108939</td>\n",
       "      <td>Q0</td>\n",
       "      <td>D388799</td>\n",
       "      <td>1</td>\n",
       "      <td>-4.80563 IndriQueryLikelihood</td>\n",
       "    </tr>\n",
       "    <tr>\n",
       "      <th>1</th>\n",
       "      <td>1108939</td>\n",
       "      <td>Q0</td>\n",
       "      <td>D290852</td>\n",
       "      <td>2</td>\n",
       "      <td>-4.98713 IndriQueryLikelihood</td>\n",
       "    </tr>\n",
       "    <tr>\n",
       "      <th>2</th>\n",
       "      <td>1108939</td>\n",
       "      <td>Q0</td>\n",
       "      <td>D2449334</td>\n",
       "      <td>3</td>\n",
       "      <td>-4.9901 IndriQueryLikelihood</td>\n",
       "    </tr>\n",
       "    <tr>\n",
       "      <th>3</th>\n",
       "      <td>1108939</td>\n",
       "      <td>Q0</td>\n",
       "      <td>D884740</td>\n",
       "      <td>4</td>\n",
       "      <td>-5.03263 IndriQueryLikelihood</td>\n",
       "    </tr>\n",
       "    <tr>\n",
       "      <th>4</th>\n",
       "      <td>1108939</td>\n",
       "      <td>Q0</td>\n",
       "      <td>D2449337</td>\n",
       "      <td>5</td>\n",
       "      <td>-5.03325 IndriQueryLikelihood</td>\n",
       "    </tr>\n",
       "  </tbody>\n",
       "</table>\n",
       "</div>"
      ],
      "text/plain": [
       "  query_id  i1    doc_id i2                             i3\n",
       "0  1108939  Q0   D388799  1  -4.80563 IndriQueryLikelihood\n",
       "1  1108939  Q0   D290852  2  -4.98713 IndriQueryLikelihood\n",
       "2  1108939  Q0  D2449334  3   -4.9901 IndriQueryLikelihood\n",
       "3  1108939  Q0   D884740  4  -5.03263 IndriQueryLikelihood\n",
       "4  1108939  Q0  D2449337  5  -5.03325 IndriQueryLikelihood"
      ]
     },
     "execution_count": 15,
     "metadata": {},
     "output_type": "execute_result"
    }
   ],
   "source": [
    "df_doctest_top100.head()"
   ]
  },
  {
   "cell_type": "code",
   "execution_count": 16,
   "metadata": {},
   "outputs": [],
   "source": [
    "x = df_doctest_top100['query_id'].unique()\n",
    "bdict = {}\n",
    "\n",
    "for queries in x:\n",
    "    queryString = str(queries)\n",
    "    y = df_qrels.loc[df_doctest_top100['query_id'] == queryString]\n",
    "    z = y['doc_id'].tolist() \n",
    "    \n",
    "    bdict[queries] = z"
   ]
  },
  {
   "cell_type": "code",
   "execution_count": null,
   "metadata": {},
   "outputs": [],
   "source": []
  },
  {
   "cell_type": "code",
   "execution_count": 68,
   "metadata": {},
   "outputs": [],
   "source": [
    "def compute_metrics(qids_to_relevant_documentids, qids_to_ranked_candidate_documents):\n",
    "    \"\"\"Compute MRR metric\n",
    "    Args:    \n",
    "    p_qids_to_relevant_documentids (dict): dictionary of query-document mapping\n",
    "        Dict as read in with load_reference or load_reference_from_stream\n",
    "    p_qids_to_ranked_candidate_documents (dict): dictionary of query-document candidates\n",
    "    Returns:\n",
    "        dict: dictionary of metrics {'MRR': <MRR Score>}\n",
    "    \"\"\"\n",
    "    all_scores = {}\n",
    "    MRR = 0\n",
    "    qids_with_relevant_documents = 0\n",
    "    ranking = []\n",
    "    newList=[]\n",
    "    cnt = 0\n",
    "    \n",
    "    for qid in qids_to_ranked_candidate_documents:\n",
    "        if qid in qids_to_relevant_documentids:\n",
    "            ranking.append(0)\n",
    "            target_pid = qids_to_relevant_documentids[qid]\n",
    "            candidate_pid = qids_to_ranked_candidate_documents[qid]\n",
    "            for j in target_pid:\n",
    "                j = str(j)\n",
    "                j.strip().lower()\n",
    "                newList.append(j)\n",
    "            for i in range(0,len(candidate_pid)):\n",
    "                n = str(candidate_pid[i])\n",
    "                n.strip().lower()\n",
    "                if n in newList:\n",
    "                    MRR += 1/(i + 1)\n",
    "                    print(1/(i+1))\n",
    "                    ranking.pop()\n",
    "                    ranking.append(i+1)\n",
    "                    break\n",
    "    if len(ranking) == 0:\n",
    "        raise IOError(\"No matching QIDs found. Are you sure you are scoring the evaluation set?\")\n",
    "    \n",
    "    MRR = MRR/len(qids_to_relevant_documentids)\n",
    "    all_scores['MRR @100'] = MRR\n",
    "    all_scores['QueriesRanked'] = len(set(qids_to_ranked_candidate_documents))\n",
    "    return all_scores"
   ]
  },
  {
   "cell_type": "code",
   "execution_count": 69,
   "metadata": {
    "scrolled": false
   },
   "outputs": [
    {
     "name": "stdout",
     "output_type": "stream",
     "text": [
      "0.022222222222222223\n",
      "1.0\n",
      "1.0\n",
      "1.0\n",
      "1.0\n",
      "1.0\n",
      "1.0\n",
      "1.0\n",
      "1.0\n",
      "1.0\n",
      "1.0\n",
      "1.0\n",
      "1.0\n",
      "1.0\n",
      "0.017241379310344827\n",
      "1.0\n",
      "1.0\n",
      "1.0\n",
      "1.0\n",
      "1.0\n",
      "1.0\n",
      "1.0\n",
      "0.01098901098901099\n",
      "1.0\n",
      "1.0\n",
      "1.0\n",
      "1.0\n"
     ]
    }
   ],
   "source": [
    "w = compute_metrics(adict,bdict)"
   ]
  },
  {
   "cell_type": "code",
   "execution_count": 70,
   "metadata": {},
   "outputs": [
    {
     "data": {
      "text/plain": [
       "{'MRR @100': 0.5593128514539902, 'QueriesRanked': 200}"
      ]
     },
     "execution_count": 70,
     "metadata": {},
     "output_type": "execute_result"
    }
   ],
   "source": [
    "w"
   ]
  },
  {
   "cell_type": "code",
   "execution_count": 21,
   "metadata": {},
   "outputs": [
    {
     "name": "stdout",
     "output_type": "stream",
     "text": [
      "43\n",
      "200\n"
     ]
    }
   ],
   "source": [
    "print(len(adict))\n",
    "print(len(bdict))"
   ]
  },
  {
   "cell_type": "code",
   "execution_count": 38,
   "metadata": {},
   "outputs": [
    {
     "data": {
      "text/html": [
       "<div>\n",
       "<style scoped>\n",
       "    .dataframe tbody tr th:only-of-type {\n",
       "        vertical-align: middle;\n",
       "    }\n",
       "\n",
       "    .dataframe tbody tr th {\n",
       "        vertical-align: top;\n",
       "    }\n",
       "\n",
       "    .dataframe thead th {\n",
       "        text-align: right;\n",
       "    }\n",
       "</style>\n",
       "<table border=\"1\" class=\"dataframe\">\n",
       "  <thead>\n",
       "    <tr style=\"text-align: right;\">\n",
       "      <th></th>\n",
       "      <th>query_id</th>\n",
       "      <th>i1</th>\n",
       "      <th>doc_id</th>\n",
       "      <th>i2</th>\n",
       "    </tr>\n",
       "  </thead>\n",
       "  <tbody>\n",
       "    <tr>\n",
       "      <th>0</th>\n",
       "      <td>19335</td>\n",
       "      <td>Q0</td>\n",
       "      <td>D1035833</td>\n",
       "      <td>0</td>\n",
       "    </tr>\n",
       "    <tr>\n",
       "      <th>1</th>\n",
       "      <td>19335</td>\n",
       "      <td>Q0</td>\n",
       "      <td>D1068065</td>\n",
       "      <td>0</td>\n",
       "    </tr>\n",
       "    <tr>\n",
       "      <th>2</th>\n",
       "      <td>19335</td>\n",
       "      <td>Q0</td>\n",
       "      <td>D1068066</td>\n",
       "      <td>0</td>\n",
       "    </tr>\n",
       "    <tr>\n",
       "      <th>3</th>\n",
       "      <td>19335</td>\n",
       "      <td>Q0</td>\n",
       "      <td>D1088</td>\n",
       "      <td>0</td>\n",
       "    </tr>\n",
       "    <tr>\n",
       "      <th>4</th>\n",
       "      <td>19335</td>\n",
       "      <td>Q0</td>\n",
       "      <td>D109632</td>\n",
       "      <td>2</td>\n",
       "    </tr>\n",
       "  </tbody>\n",
       "</table>\n",
       "</div>"
      ],
      "text/plain": [
       "  query_id  i1    doc_id i2\n",
       "0    19335  Q0  D1035833  0\n",
       "1    19335  Q0  D1068065  0\n",
       "2    19335  Q0  D1068066  0\n",
       "3    19335  Q0     D1088  0\n",
       "4    19335  Q0   D109632  2"
      ]
     },
     "execution_count": 38,
     "metadata": {},
     "output_type": "execute_result"
    }
   ],
   "source": [
    "df_qrels.head()"
   ]
  },
  {
   "cell_type": "markdown",
   "metadata": {},
   "source": [
    "## Testing removing all 0 qrels "
   ]
  },
  {
   "cell_type": "code",
   "execution_count": 52,
   "metadata": {},
   "outputs": [],
   "source": [
    "df_qrels_removed =  df_qrels[df_qrels.i2!= '0']"
   ]
  },
  {
   "cell_type": "code",
   "execution_count": 58,
   "metadata": {},
   "outputs": [
    {
     "data": {
      "text/html": [
       "<div>\n",
       "<style scoped>\n",
       "    .dataframe tbody tr th:only-of-type {\n",
       "        vertical-align: middle;\n",
       "    }\n",
       "\n",
       "    .dataframe tbody tr th {\n",
       "        vertical-align: top;\n",
       "    }\n",
       "\n",
       "    .dataframe thead th {\n",
       "        text-align: right;\n",
       "    }\n",
       "</style>\n",
       "<table border=\"1\" class=\"dataframe\">\n",
       "  <thead>\n",
       "    <tr style=\"text-align: right;\">\n",
       "      <th></th>\n",
       "      <th>query_id</th>\n",
       "      <th>i1</th>\n",
       "      <th>doc_id</th>\n",
       "      <th>i2</th>\n",
       "    </tr>\n",
       "  </thead>\n",
       "  <tbody>\n",
       "    <tr>\n",
       "      <th>4</th>\n",
       "      <td>19335</td>\n",
       "      <td>Q0</td>\n",
       "      <td>D109632</td>\n",
       "      <td>2</td>\n",
       "    </tr>\n",
       "    <tr>\n",
       "      <th>5</th>\n",
       "      <td>19335</td>\n",
       "      <td>Q0</td>\n",
       "      <td>D109633</td>\n",
       "      <td>1</td>\n",
       "    </tr>\n",
       "    <tr>\n",
       "      <th>21</th>\n",
       "      <td>19335</td>\n",
       "      <td>Q0</td>\n",
       "      <td>D1254937</td>\n",
       "      <td>1</td>\n",
       "    </tr>\n",
       "    <tr>\n",
       "      <th>29</th>\n",
       "      <td>19335</td>\n",
       "      <td>Q0</td>\n",
       "      <td>D1347090</td>\n",
       "      <td>1</td>\n",
       "    </tr>\n",
       "    <tr>\n",
       "      <th>34</th>\n",
       "      <td>19335</td>\n",
       "      <td>Q0</td>\n",
       "      <td>D1372464</td>\n",
       "      <td>2</td>\n",
       "    </tr>\n",
       "  </tbody>\n",
       "</table>\n",
       "</div>"
      ],
      "text/plain": [
       "   query_id  i1    doc_id i2\n",
       "4     19335  Q0   D109632  2\n",
       "5     19335  Q0   D109633  1\n",
       "21    19335  Q0  D1254937  1\n",
       "29    19335  Q0  D1347090  1\n",
       "34    19335  Q0  D1372464  2"
      ]
     },
     "execution_count": 58,
     "metadata": {},
     "output_type": "execute_result"
    }
   ],
   "source": [
    "df_qrels_removed.head()"
   ]
  },
  {
   "cell_type": "code",
   "execution_count": 59,
   "metadata": {},
   "outputs": [],
   "source": [
    "d = df_qrels_removed['query_id'].unique()\n",
    "ddict = {}\n",
    "\n",
    "for queries in d:\n",
    "    queryString = str(queries)\n",
    "    e = df_qrels_removed.loc[df_qrels_removed['query_id'] == queryString]\n",
    "    f = e['doc_id'].tolist() \n",
    "    \n",
    "    ddict[queries] = f"
   ]
  },
  {
   "cell_type": "code",
   "execution_count": null,
   "metadata": {},
   "outputs": [],
   "source": []
  },
  {
   "cell_type": "code",
   "execution_count": 71,
   "metadata": {},
   "outputs": [
    {
     "name": "stdout",
     "output_type": "stream",
     "text": [
      "0.021739130434782608\n",
      "0.25\n",
      "1.0\n",
      "1.0\n",
      "0.3333333333333333\n",
      "0.3333333333333333\n",
      "0.1111111111111111\n",
      "0.5\n",
      "0.25\n",
      "0.3333333333333333\n",
      "0.2\n",
      "0.25\n",
      "1.0\n",
      "0.5\n",
      "0.01694915254237288\n",
      "1.0\n",
      "0.25\n",
      "0.25\n",
      "0.5\n",
      "1.0\n",
      "0.5\n",
      "0.5\n",
      "0.25\n",
      "0.2\n",
      "0.25\n",
      "1.0\n"
     ]
    }
   ],
   "source": [
    "w = compute_metrics(ddict,bdict)"
   ]
  },
  {
   "cell_type": "code",
   "execution_count": 72,
   "metadata": {},
   "outputs": [
    {
     "data": {
      "text/plain": [
       "{'MRR @100': 0.27441393939740155, 'QueriesRanked': 200}"
      ]
     },
     "execution_count": 72,
     "metadata": {},
     "output_type": "execute_result"
    }
   ],
   "source": [
    "w"
   ]
  },
  {
   "cell_type": "code",
   "execution_count": 63,
   "metadata": {},
   "outputs": [
    {
     "name": "stdout",
     "output_type": "stream",
     "text": [
      "43\n"
     ]
    }
   ],
   "source": [
    "print(len(ddict))"
   ]
  },
  {
   "cell_type": "code",
   "execution_count": null,
   "metadata": {},
   "outputs": [],
   "source": []
  }
 ],
 "metadata": {
  "kernelspec": {
   "display_name": "Python 3",
   "language": "python",
   "name": "python3"
  },
  "language_info": {
   "codemirror_mode": {
    "name": "ipython",
    "version": 3
   },
   "file_extension": ".py",
   "mimetype": "text/x-python",
   "name": "python",
   "nbconvert_exporter": "python",
   "pygments_lexer": "ipython3",
   "version": "3.6.5"
  }
 },
 "nbformat": 4,
 "nbformat_minor": 2
}
